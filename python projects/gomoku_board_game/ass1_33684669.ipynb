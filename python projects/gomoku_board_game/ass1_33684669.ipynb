{
 "cells": [
  {
   "attachments": {
    "FIT-typographic-color-400x70.png": {
     "image/png": "[encoded data removed]"
    }
   },
   "cell_type": "markdown",
   "id": "92f03636",
   "metadata": {},
   "source": [
    "![FIT-typographic-color-400x70.png](attachment:FIT-typographic-color-400x70.png)"
   ]
  },
  {
   "cell_type": "markdown",
   "id": "354cac89",
   "metadata": {},
   "source": [
    "# FIT9136 Algorithms and Programming Foundations in Python \n",
    "# 2023 Semester 2\n",
    "## Assignment 1"
   ]
  },
  {
   "cell_type": "markdown",
   "id": "c62d3b7b",
   "metadata": {},
   "source": [
    "**Student name: Shruthi Shashidhara Shastry**  <br/>\n",
    "**Student ID: 33684669**  <br/>\n",
    "**Creation date: 19-08-2023**  <br/>\n",
    "**Last modified date: 25-08-2023**  <br/>\n"
   ]
  },
  {
   "cell_type": "code",
   "execution_count": 4,
   "id": "2c949fc4",
   "metadata": {},
   "outputs": [],
   "source": [
    "# Libraries to import (if any)\n",
    "\n",
    "# imported random as the game contains playing with computer\n",
    "\n",
    "import random"
   ]
  },
  {
   "cell_type": "markdown",
   "id": "d3112ad4",
   "metadata": {},
   "source": [
    "### 3.1 Game menu function"
   ]
  },
  {
   "cell_type": "code",
   "execution_count": 5,
   "id": "7fdc2353",
   "metadata": {},
   "outputs": [],
   "source": [
    "# Implement code for 3.1 here\n",
    "\n",
    "#function definition for game menu\n",
    "\n",
    "def game_menu():\n",
    "    print(\"!!!!!!!!!!!! WELCOME !!!!!!!!!!!!!!!\")\n",
    "    print(\"GOMOKU GAME MENU :\")\n",
    "    print(\"1.Start a Game\")\n",
    "    print(\"2.Print the Board\")\n",
    "    print(\"3.Place a Stone\")\n",
    "    print(\"4.Reset the Game\")\n",
    "    print(\"5.Exit\")"
   ]
  },
  {
   "cell_type": "code",
   "execution_count": 6,
   "id": "5baf9ad9",
   "metadata": {
    "scrolled": true
   },
   "outputs": [
    {
     "name": "stdout",
     "output_type": "stream",
     "text": [
      "!!!!!!!!!!!! WELCOME !!!!!!!!!!!!!!!\n",
      "GOMOKU GAME MENU :\n",
      "1.Start a Game\n",
      "2.Print the Board\n",
      "3.Place a Stone\n",
      "4.Reset the Game\n",
      "5.Exit\n"
     ]
    }
   ],
   "source": [
    "# Test code for 3.1 here [The code in this cell should be commented]\n",
    "\n",
    "#game_menu()\n",
    "\n",
    "#output:\n",
    "##When this function is called it displays the specified game menu "
   ]
  },
  {
   "cell_type": "markdown",
   "id": "542881aa",
   "metadata": {},
   "source": [
    "### 3.2 Creating the Board"
   ]
  },
  {
   "cell_type": "code",
   "execution_count": 7,
   "id": "5c8cb479",
   "metadata": {},
   "outputs": [],
   "source": [
    "# Implement code for 3.2 here\n",
    "\n",
    "#function definition for creation of game board\n",
    "#I have choosen list(used list comprehension) data structure for keeping track of the state of the board\n",
    "\n",
    "def create_board(size):\n",
    "    \n",
    "    #as we are creating nXn size board so i am making use of range(size)in list comprehension\n",
    "    return [[\" \" for each in range(size)] for each in range(size)]"
   ]
  },
  {
   "cell_type": "code",
   "execution_count": 8,
   "id": "89914e6e",
   "metadata": {},
   "outputs": [
    {
     "data": {
      "text/plain": [
       "[[' ', ' ', ' ', ' ', ' ', ' ', ' ', ' ', ' ', ' ', ' ', ' ', ' '],\n",
       " [' ', ' ', ' ', ' ', ' ', ' ', ' ', ' ', ' ', ' ', ' ', ' ', ' '],\n",
       " [' ', ' ', ' ', ' ', ' ', ' ', ' ', ' ', ' ', ' ', ' ', ' ', ' '],\n",
       " [' ', ' ', ' ', ' ', ' ', ' ', ' ', ' ', ' ', ' ', ' ', ' ', ' '],\n",
       " [' ', ' ', ' ', ' ', ' ', ' ', ' ', ' ', ' ', ' ', ' ', ' ', ' '],\n",
       " [' ', ' ', ' ', ' ', ' ', ' ', ' ', ' ', ' ', ' ', ' ', ' ', ' '],\n",
       " [' ', ' ', ' ', ' ', ' ', ' ', ' ', ' ', ' ', ' ', ' ', ' ', ' '],\n",
       " [' ', ' ', ' ', ' ', ' ', ' ', ' ', ' ', ' ', ' ', ' ', ' ', ' '],\n",
       " [' ', ' ', ' ', ' ', ' ', ' ', ' ', ' ', ' ', ' ', ' ', ' ', ' '],\n",
       " [' ', ' ', ' ', ' ', ' ', ' ', ' ', ' ', ' ', ' ', ' ', ' ', ' '],\n",
       " [' ', ' ', ' ', ' ', ' ', ' ', ' ', ' ', ' ', ' ', ' ', ' ', ' '],\n",
       " [' ', ' ', ' ', ' ', ' ', ' ', ' ', ' ', ' ', ' ', ' ', ' ', ' '],\n",
       " [' ', ' ', ' ', ' ', ' ', ' ', ' ', ' ', ' ', ' ', ' ', ' ', ' ']]"
      ]
     },
     "execution_count": 8,
     "metadata": {},
     "output_type": "execute_result"
    }
   ],
   "source": [
    "# Test code for 3.2 here [The code in this cell should be commented]\n",
    "\n",
    "#create_board(13)\n",
    "\n",
    "#output:\n",
    "#this will create the board of the game with the specified size(13 in this case) using list comprehension ie 13X13"
   ]
  },
  {
   "cell_type": "markdown",
   "id": "5a211de8",
   "metadata": {},
   "source": [
    "### 3.3 Is the target position occupied?"
   ]
  },
  {
   "cell_type": "code",
   "execution_count": 9,
   "id": "85c0b4ad",
   "metadata": {},
   "outputs": [],
   "source": [
    " # Implement code for 3.3 here\n",
    "\n",
    "#function definition to check whether the position is occupied or not\n",
    "#x is the row_index and y is the col_index \n",
    "# as mentioned in specification i have taken x and y as valid numeric indices so didnt test any conditions for that\n",
    "\n",
    "def is_occupied(board,x,y):\n",
    "    #the function is_occupied will return TRUE if the position is occupied or FALSE if the position is not occupied\n",
    "    return board[x][y] != \" \""
   ]
  },
  {
   "cell_type": "code",
   "execution_count": 10,
   "id": "a53db902",
   "metadata": {},
   "outputs": [
    {
     "name": "stdout",
     "output_type": "stream",
     "text": [
      "Position that you have choosen is not occupied!!\n"
     ]
    }
   ],
   "source": [
    "# Test code for 3.3 here [The code in this cell should be commented]\n",
    "\n",
    "#size = 9\n",
    "#board = create_board(size)\n",
    "#if is_occupied(board, 0,0):\n",
    "#    print(\"Position that you have choosen is occupied!!\")\n",
    "#else:\n",
    "    print(\"Position that you have choosen is not occupied!!\")\n",
    "\n",
    "\n",
    "#output:\n",
    "#Position that you have choosen is not occupied!!"
   ]
  },
  {
   "cell_type": "code",
   "execution_count": 11,
   "id": "d10d8e3d",
   "metadata": {},
   "outputs": [
    {
     "name": "stdout",
     "output_type": "stream",
     "text": [
      "Position that you have choosen is occupied!!\n"
     ]
    }
   ],
   "source": [
    "# Test code for 3.3 here [The code in this cell should be commented]\n",
    "\n",
    "board = [['●', '', ' ', ' ', ' ', ' ', ' ', ' ', ' ' ],\n",
    "         [' ', ' ', ' ', ' ', ' ', ' ', ' ', ' ', ' ' ],\n",
    "         [' ', ' ', ' ', ' ', ' ', ' ', ' ', ' ', ' ' ],\n",
    "         [' ', ' ', ' ', '●', ' ', ' ', ' ', ' ', ' ' ],\n",
    "         [' ', ' ', ' ', ' ', ' ', '●', ' ', ' ', ' ' ],\n",
    "         [' ', ' ', ' ', ' ', ' ', ' ', ' ', ' ', ' ' ],\n",
    "         [' ', '●', ' ', ' ', ' ', ' ', ' ', ' ', ' ' ],\n",
    "         [' ', ' ', ' ', ' ', ' ', ' ', ' ', ' ', ' ' ],\n",
    "         [' ', ' ', ' ', ' ', '●', ' ', ' ', ' ', ' ' ]]\n",
    "\n",
    "if is_occupied(board, 0,0):\n",
    "    print(\"Position that you have choosen is occupied!!\")\n",
    "else:\n",
    "    print(\"Position that you have choosen is not occupied!!\")\n",
    "    \n",
    "#output:\n",
    "#Position that you have choosen is occupied\n"
   ]
  },
  {
   "cell_type": "markdown",
   "id": "a6073d40",
   "metadata": {},
   "source": [
    "### Valid Position Function"
   ]
  },
  {
   "cell_type": "code",
   "execution_count": 13,
   "id": "5099b715",
   "metadata": {},
   "outputs": [],
   "source": [
    "#function definition for valid position\n",
    "\n",
    "#this function is defined to check whether the position specified is valid or not i.e, within the specified range of board\n",
    "def valid_position(board, x, y):\n",
    "    #x and y are row and column index and it should be within 0 and len(board)which \n",
    "    #is size specified for it to be a valid position\n",
    "    return ((x>=0  and x<len(board)) and (y>=0 and y < len(board)))"
   ]
  },
  {
   "cell_type": "code",
   "execution_count": 14,
   "id": "7f5fd6ff",
   "metadata": {},
   "outputs": [
    {
     "name": "stdout",
     "output_type": "stream",
     "text": [
      "Position that you have choosen is not valid!!\n"
     ]
    }
   ],
   "source": [
    "# Test code for valid position here\n",
    "\n",
    "size = 9\n",
    "board = create_board(size)\n",
    "if valid_position(board,10,0):\n",
    "    print(\"Position that you have choosen is valid!!\")\n",
    "else:\n",
    "    print(\"Position that you have choosen is not valid!!\")\n",
    "    \n",
    "#output \n",
    "#the size specificed is 9 and the position entered to place the stone is (10,0)\n",
    "#which is not valid as its out of list index range\n",
    "#so it prints Position that you have choosen is not valid!!"
   ]
  },
  {
   "cell_type": "code",
   "execution_count": 15,
   "id": "1a53369a",
   "metadata": {},
   "outputs": [
    {
     "name": "stdout",
     "output_type": "stream",
     "text": [
      "Position that you have choosen is valid!!\n"
     ]
    }
   ],
   "source": [
    "# Test code for valid position here\n",
    "\n",
    "size = 9\n",
    "board = create_board(size)\n",
    "if valid_position(board,8,0):\n",
    "    print(\"Position that you have choosen is valid!!\")\n",
    "else:\n",
    "    print(\"Position that you have choosen is not valid!!\")\n",
    "    \n",
    "#output\n",
    "#Position that you have choosen is valid"
   ]
  },
  {
   "cell_type": "markdown",
   "id": "83ef5d64",
   "metadata": {},
   "source": [
    "### 3.4 Placing a Stone at a Specific Intersection"
   ]
  },
  {
   "cell_type": "code",
   "execution_count": 16,
   "id": "8cae464e",
   "metadata": {},
   "outputs": [],
   "source": [
    " # Implement code for 3.4 here\n",
    "\n",
    "#function definition for placing a stone at a specific intersection\n",
    "#the function place_on_board will return/output TRUE or FALSE indicating whether placing the stone was successful or not\n",
    "def place_on_board(board, stone,position):\n",
    "    #since position is tuple(x,y)\n",
    "    x, y = position  \n",
    "    \n",
    "    # Check if the position is valid i.e within the size of board and Check if the position is occupied or not\n",
    "    if valid_position(board, x, y) and not is_occupied(board, x, y):\n",
    "        board[x][y] = stone\n",
    "        return True\n",
    "    return False"
   ]
  },
  {
   "cell_type": "code",
   "execution_count": 13,
   "id": "f022b5e3",
   "metadata": {},
   "outputs": [],
   "source": [
    "# Test code for 3.4 here [The code in this cell should be commented]\n",
    "\n",
    "#size = 9\n",
    "#board = create_board(size)\n",
    "#position = input(\"Enter the position:\").split(\" \")\n",
    "#x = int(position[0])\n",
    "#y= ord(position[1].upper())-ord(\"A\")\n",
    "#flag = place_on_board(board,\"●\",(x,y))\n",
    "#if flag:\n",
    "#    print(\"stone placed successfully\")\n",
    "#else:\n",
    "#    print(\"error!! Invalid input\")\n",
    "\n",
    "#output:\n",
    "#place_on_board returns true as the position is valid and not occupied and prints stone placed successfully."
   ]
  },
  {
   "cell_type": "code",
   "execution_count": 14,
   "id": "36c0317a",
   "metadata": {},
   "outputs": [],
   "source": [
    "# Test code for 3.4 here [The code in this cell should be commented]\n",
    "\n",
    "#size = 9\n",
    "#board = create_board(size)\n",
    "#position = input(\"Enter the position:\").split(\" \")\n",
    "#x = int(position[0])\n",
    "#y= ord(position[1].upper())-ord(\"A\")\n",
    "#flag = place_on_board(board,\"●\",(x,y))\n",
    "#if flag:\n",
    "#    print(\"stone placed successfully\")\n",
    "#else:\n",
    "#    print(\"error!! Invalid input\")\n",
    "\n",
    "#output \n",
    "# place_on_board returns false as the position is invalid and prints error!! Invalid input\n"
   ]
  },
  {
   "cell_type": "code",
   "execution_count": 15,
   "id": "cee2f74e",
   "metadata": {},
   "outputs": [],
   "source": [
    "# Test code for 3.4 here [The code in this cell should be commented]\n",
    "\n",
    "#board = [['●', '', ' ', ' ', ' ', ' ', ' ', ' ', ' ' ],\n",
    "#         [' ', ' ', ' ', ' ', ' ', ' ', ' ', ' ', ' ' ],\n",
    "#         [' ', ' ', ' ', ' ', ' ', ' ', ' ', ' ', ' ' ],\n",
    "#         [' ', ' ', ' ', '●', ' ', ' ', ' ', ' ', ' ' ],\n",
    "#         [' ', ' ', ' ', ' ', ' ', '●', ' ', ' ', ' ' ],\n",
    "#         [' ', ' ', ' ', ' ', ' ', ' ', ' ', ' ', ' ' ],\n",
    "#        [' ', '●', ' ', ' ', ' ', ' ', ' ', ' ', ' ' ],\n",
    "#        [' ', ' ', ' ', ' ', ' ', ' ', ' ', ' ', ' ' ],\n",
    "#         [' ', ' ', ' ', ' ', '●', ' ', ' ', ' ', ' ' ]]\n",
    "\n",
    "#position = input(\"Enter the position:\").split(\" \")\n",
    "#x = int(position[0])\n",
    "#y= ord(position[1].upper())-ord(\"A\")\n",
    "#flag = place_on_board(board,\"●\",(x,y))\n",
    "#if flag:\n",
    "#    print(\"stone placed successfully\")\n",
    "#else:\n",
    "#    print(\"error!! Invalid input or position is already occupied pls check!!\")\n",
    "\n",
    "#output\n",
    "#place_on_board returns false as the position is occupied and prints\n",
    "#error!! Invalid input or position is already occupied pls check!!"
   ]
  },
  {
   "cell_type": "markdown",
   "id": "08d45532",
   "metadata": {},
   "source": [
    "### 3.5 Printing the Board"
   ]
  },
  {
   "cell_type": "code",
   "execution_count": 16,
   "id": "500a1f7a",
   "metadata": {},
   "outputs": [],
   "source": [
    "# # Implement code for 3.5 here\n",
    "    \n",
    "#function definition for visualizing the board with -- as row and | as column grid \n",
    "#along with row (0,1,2,...) and col(A,B,C....)indices\n",
    "\n",
    "def print_board(board):\n",
    "    \n",
    "    size = len(board)\n",
    "    \n",
    "    # for printing column indices (A, B, C, ...)\n",
    "    print(\"\", end = \"\")\n",
    "    for i in range(size):\n",
    "        print(\"{}\".format(chr(ord('A') + i)),end = \"  \")\n",
    "    print()\n",
    "    \n",
    "    # for printing the board rows( -- , stone at the intersection of row and column  and row index)\n",
    "    print(\"\", end = \"\")\n",
    "    #loop for number of rows,\n",
    "    #size-1 as x starts from 0 \n",
    "    for x in range(size-1):\n",
    "        #loop for no of times -- to be printed in each row \n",
    "        for z in range(size-1):\n",
    "            #board[x][z] position where the stone has to be placed\n",
    "            print(\"{}--\".format(board[x][z]),end = \"\")\n",
    "            #adding the stone position to be placed for last column in each row.\n",
    "            if z == size-2:\n",
    "                print(\"{}\".format(board[x][z+1]),end = \"\")\n",
    "        #printing row index at the end of each row \n",
    "        print(\"\",x)\n",
    "    \n",
    "        #for adding column grid\n",
    "        for y in range(size-1):\n",
    "            print(\"| \" ,end=\" \")\n",
    "        print(\"|\")\n",
    "    \n",
    "    #for printing the last row as in the above it prints only n-1 row so to \n",
    "    #print the nth row grid ,stone and index we make use of same code of row \n",
    "    print(\"\", end = \"\") \n",
    "    for x in range(size-1,size):\n",
    "        for z in range(size-1):\n",
    "            print(\"{}--\".format(board[x][z]),end = \"\")\n",
    "            if z == size-2:\n",
    "                print(\"{}\".format(board[x][z+1]),end = \"\")\n",
    "        print(\"\",x)"
   ]
  },
  {
   "cell_type": "code",
   "execution_count": 17,
   "id": "4dfdf23d",
   "metadata": {
    "scrolled": true
   },
   "outputs": [],
   "source": [
    "# Test code for 3.5 here [The code in this cell should be commented]\n",
    "\n",
    "\n",
    "#board = create_board(9) \n",
    "#position = input(\"Enter the position:\\n\").split(\" \")\n",
    "#x = int(position[0])\n",
    "#y= ord(position[1].upper())-ord(\"A\")\n",
    "#place_on_board(board,\"●\",(x,y))\n",
    "#print_board(board)\n",
    "\n",
    "#output:\n",
    "#this function will create and display the game board according to the specified size\n",
    "#and displays stone at the specified intersection "
   ]
  },
  {
   "cell_type": "markdown",
   "id": "cce46567",
   "metadata": {},
   "source": [
    "### 3.6 Check Available Moves"
   ]
  },
  {
   "cell_type": "code",
   "execution_count": 18,
   "id": "1421cbd6",
   "metadata": {},
   "outputs": [],
   "source": [
    " # Implement code for 3.6 here\n",
    "\n",
    "#function definition to check the available moves \n",
    "def check_available_moves(board):\n",
    "    #return all tuples of the form(x,y) eg('0','F') if that position is not occupied\n",
    "    return [(str(x), chr(y + ord(\"A\"))) for x in range(len(board)) for y in range(len(board[0])) \n",
    "            if not is_occupied(board, x, y)]"
   ]
  },
  {
   "cell_type": "code",
   "execution_count": 19,
   "id": "15f6ada2",
   "metadata": {},
   "outputs": [],
   "source": [
    "# Test code for 3.6 here [The code in this cell should be commented]\n",
    "\n",
    "#board = create_board(9)\n",
    "#available_moves = check_available_moves(board)\n",
    "#print(\"No of Available Moves:\",len(available_moves))\n",
    "#print(\"Available Moves:\", available_moves)\n",
    "\n",
    "#output:\n",
    "#displays list all 81 tuples which is the avaibable moves initially\n",
    "#[('0', 'A'), ('0', 'B'), ('0', 'C'), ('0', 'D'), ('0', 'E'), ('0', 'F'), ('0', 'G'), ('0', 'H'), ('0', 'I'),\n",
    "#('1', 'A'), ('1', 'B'), ('1', 'C'), ('1', 'D'), ('1', 'E'), ('1', 'F'), ('1', 'G'), ('1', 'H'), ('1', 'I'), \n",
    "#('2', 'A'), ('2', 'B'), ('2', 'C'), ('2', 'D'), ('2', 'E'), ('2', 'F'), ('2', 'G'), ('2', 'H'), ('2', 'I'), \n",
    "#('3', 'A'), ('3', 'B'), ('3', 'C'), ('3', 'D'), ('3', 'E'), ('3', 'F'), ('3', 'G'), ('3', 'H'), ('3', 'I'), \n",
    "#('4', 'A'), ('4', 'B'), ('4', 'C'), ('4', 'D'), ('4', 'E'), ('4', 'F'), ('4', 'G'), ('4', 'H'), ('4', 'I'), \n",
    "#('5', 'A'), ('5', 'B'), ('5', 'C'), ('5', 'D'), ('5', 'E'), ('5', 'F'), ('5', 'G'), ('5', 'H'), ('5', 'I'), \n",
    "#('6', 'A'), ('6', 'B'), ('6', 'C'), ('6', 'D'), ('6', 'E'), ('6', 'F'), ('6', 'G'), ('6', 'H'), ('6', 'I'), \n",
    "#('7', 'A'), ('7', 'B'), ('7', 'C'), ('7', 'D'), ('7', 'E'), ('7', 'F'), ('7', 'G'), ('7', 'H'), ('7', 'I'), \n",
    "#('8', 'A'), ('8', 'B'), ('8', 'C'), ('8', 'D'), ('8', 'E'), ('8', 'F'), ('8', 'G'), ('8', 'H'), ('8', 'I')]"
   ]
  },
  {
   "cell_type": "code",
   "execution_count": 20,
   "id": "5f4c14f3",
   "metadata": {},
   "outputs": [],
   "source": [
    "# Test code for 3.6 here [The code in this cell should be commented]\n",
    "\n",
    "#board = [[' ', '●', ' ', ' ', ' ', ' ', ' ', ' ', ' ' ],\n",
    "#        [' ', ' ', ' ', ' ', ' ', ' ', ' ', ' ', ' ' ],\n",
    "#         [' ', ' ', ' ', ' ', ' ', ' ', ' ', ' ', ' ' ],\n",
    "#         [' ', ' ', ' ', '●', ' ', ' ', ' ', ' ', ' ' ],\n",
    "#         [' ', ' ', ' ', ' ', ' ', '●', ' ', ' ', ' ' ],\n",
    "#         [' ', ' ', ' ', ' ', ' ', ' ', ' ', ' ', ' ' ],\n",
    "#         [' ', '●', ' ', ' ', ' ', ' ', ' ', ' ', ' ' ],\n",
    "#         [' ', ' ', ' ', ' ', ' ', ' ', ' ', ' ', ' ' ],\n",
    "#         [' ', ' ', ' ', ' ', '●', ' ', ' ', ' ', ' ' ]]\n",
    "\n",
    "#available_moves = check_available_moves(board)\n",
    "#print(\"Available Moves:\", len(available_moves))\n",
    "\n",
    "#output\n",
    "#76"
   ]
  },
  {
   "cell_type": "markdown",
   "id": "1aa4e443",
   "metadata": {},
   "source": [
    "### 3.7 Check for the Winner"
   ]
  },
  {
   "cell_type": "code",
   "execution_count": 1,
   "id": "b180e465",
   "metadata": {},
   "outputs": [],
   "source": [
    " # Implement code for 3.7 here\n",
    "#function definition for checking for winner \n",
    "def check_for_winner(board):\n",
    "    size = len(board)\n",
    "    # Black and White stones\n",
    "    players = [\"●\", \"○\"]  \n",
    "    \n",
    "    for player in players:\n",
    "        #for row index\n",
    "        for x in range(size):\n",
    "            #for col index\n",
    "            for y in range(size):\n",
    "                stone = board[x][y]\n",
    "                if stone == player:\n",
    "                    # Check horizontally\n",
    "                    #only col value changes \n",
    "                    if y + 4 < size and all(board[x][y+i] == player for i in range(5)):\n",
    "                        return player\n",
    "                    # Check vertically\n",
    "                    #only row value changes\n",
    "                    if x + 4 < size and all(board[x+i][y] == player for i in range(5)):\n",
    "                        return player\n",
    "                    # Check diagonal\n",
    "                    #both bottom-left to top-right and top-left to bottom-right\n",
    "                    if x + 4 < size and y + 4 < size and all(board[x+i][y+i] == player for i in range(5)):\n",
    "                        return player\n",
    "                    # Check anti-diagonal\n",
    "                    #both bottom-right to top-left and top-right to bottom-left\n",
    "                    if x + 4 < size and y >= 4 and all(board[x+i][y-i] == player for i in range(5)):\n",
    "                        return player\n",
    "    #check for draw \n",
    "    if len(check_available_moves(board)) == 0:\n",
    "        return \"Draw\"\n",
    "    else:\n",
    "        return None\n"
   ]
  },
  {
   "cell_type": "code",
   "execution_count": 22,
   "id": "d1833cc3",
   "metadata": {},
   "outputs": [],
   "source": [
    "# Test code for 3.7 here [The code in this cell should be commented]\n",
    "\n",
    "#board1 = [[' ', '●', ' ', ' ', ' ', ' ', ' ', ' ', ' ' ],\n",
    "#         [' ', ' ', '●', ' ', ' ', ' ', ' ', ' ', ' ' ],\n",
    "#         ['○', '○', '○', '●', ' ', ' ', ' ', ' ', ' ' ],\n",
    "#         [' ', ' ', '○', ' ', '●', ' ', ' ', ' ', ' ' ],\n",
    "#         [' ', ' ', ' ', '○', ' ', '●', ' ', ' ', ' ' ],\n",
    "#         [' ', ' ', ' ', ' ', ' ', ' ', ' ', ' ', ' ' ],\n",
    "#         [' ', '', ' ', ' ', ' ', ' ', ' ', ' ', ' '  ],\n",
    "#         [' ', ' ', ' ', ' ', ' ', ' ', ' ', ' ', ' ' ],\n",
    "#         [' ', ' ', ' ', ' ', '', ' ', ' ', ' ', ' ' ]]\n",
    "\n",
    "\n",
    "        \n",
    "#winner = check_for_winner(board)\n",
    "#if winner :\n",
    "#    if winner == \"Draw\":\n",
    "#        print(\"\\nIt's a draw!\")\n",
    "#    else:\n",
    "#        print(f\"{winner} wins!!\" )\n",
    "\n",
    "#output\n",
    "# ● wins!!"
   ]
  },
  {
   "cell_type": "code",
   "execution_count": 23,
   "id": "22936b39",
   "metadata": {},
   "outputs": [],
   "source": [
    "# Test code for 3.7 here [The code in this cell should be commented]\n",
    "\n",
    "#board1 = [['●', '●', '○', '●', '○', '●'],\n",
    "#          ['●', '●', '●', '●', '○', '●'],\n",
    "#          ['○', '●', '○', '●', '○', '●'],\n",
    "#          ['○', '○', '●', '●', '●', '○'],\n",
    "#          ['○', '●', '○', '○', '○', '○'],\n",
    "#          ['○', '○', '○', '●','○', '○']]\n",
    "\n",
    "#winner = check_for_winner(board1)\n",
    "#if winner :\n",
    "#    if winner == \"Draw\":\n",
    "#        print(\"\\nIt's a draw!\")\n",
    "#    else:\n",
    "#        print(f\"{winner} wins!!\" )\n",
    "\n",
    "#output\n",
    "#It's a draw"
   ]
  },
  {
   "cell_type": "markdown",
   "id": "9fb9133d",
   "metadata": {},
   "source": [
    "### 3.8 Random Computer Player"
   ]
  },
  {
   "cell_type": "code",
   "execution_count": 2,
   "id": "be8be4d4",
   "metadata": {},
   "outputs": [],
   "source": [
    " # Implement code for 3.8 here\n",
    "#function definition for random computer player\n",
    "def random_computer_player(board, player_move):\n",
    "     #choose a random available position,if its computer's first move\n",
    "    if player_move is None:\n",
    "        return random.choice(check_available_moves(board))\n",
    "\n",
    "    x, y = player_move\n",
    "    \n",
    "    #to find all the available valid positions within a 3 * 3 square \n",
    "    valid_positions = []\n",
    "    for i in range(-1, 2):\n",
    "        for j in range(-1, 2):\n",
    "            new_x, new_y = x + i, y + j\n",
    "            # Check if the new position is valid and unoccupied\n",
    "            if valid_position(board, new_x, new_y) and not is_occupied(board, new_x, new_y):\n",
    "                valid_positions.append((new_x, new_y))\n",
    "    \n",
    "    #If there are no valid positions around the player's move, choose a random available position\n",
    "    if not valid_positions:\n",
    "        random_tuple = random.choice(check_available_moves(board))\n",
    "        # Convert the string digit part of the tuple to its row index \n",
    "        cx = int(random_tuple[0])\n",
    "         # Convert the letter part of the tuple to its corresponding column index \n",
    "        cy = ord(random_tuple[1].upper())- ord(\"A\")\n",
    "        return (cx,cy)\n",
    "    else:\n",
    "        return random.choice(valid_positions)\n"
   ]
  },
  {
   "cell_type": "code",
   "execution_count": 25,
   "id": "49f65cd1",
   "metadata": {},
   "outputs": [],
   "source": [
    "# Test code for 3.8 here [The code in this cell should be commented]\n",
    "\n",
    "#player_move = (2,'B')\n",
    "#x, y = player_move\n",
    "#x = int(player_move[0])\n",
    "#y = ord(player_move[1].upper())- ord(\"A\")\n",
    "#board = create_board(9) \n",
    "#computer_move = random_computer_player(board,(x,y))\n",
    "#print(f\"Computer's Move: {computer_move[0]} {chr(computer_move[1] + ord('A'))}\")\n",
    "\n",
    "#output i got : but it can be any random value \n",
    "#Computer's Move: 2 A"
   ]
  },
  {
   "cell_type": "markdown",
   "id": "2972eb0f",
   "metadata": {},
   "source": [
    "### 3.9 Play Game"
   ]
  },
  {
   "cell_type": "code",
   "execution_count": 26,
   "id": "afc2655a",
   "metadata": {},
   "outputs": [],
   "source": [
    "# Implement code for 3.9 here\n",
    "    \n",
    "def play_game():\n",
    "    #Initialize default values\n",
    "    size = 9 \n",
    "    mode = \"Player vs. Player\"\n",
    "    board = create_board(size)\n",
    "    player_turn = \"●\"\n",
    "    game_in_progress = False\n",
    "    computer_has_played = False\n",
    "    \n",
    "    # Main game loop\n",
    "    while True:\n",
    "        \n",
    "        #displaying game menu\n",
    "        game_menu()\n",
    "        \n",
    "        \n",
    "        choice = input(\"Enter your choice: \")\n",
    "        \n",
    "        # Option 1 - Start a New Game\n",
    "        if choice == \"1\":\n",
    "            # Check if a game is already in progress\n",
    "            if game_in_progress:\n",
    "                print(\"A game is already in progress.\")\n",
    "                reset_choice = input(\"1. Reset and start a new game\\n2. Continue and complete the current game\"\n",
    "                                     +\"\\nEnter your choice: \")\n",
    "                #reset and restart the game \n",
    "                if reset_choice == '1':\n",
    "                    \n",
    "                    game_in_progress = False\n",
    "                    \n",
    "                    while True:\n",
    "                        size = input(\"Enter board size (e.g. 9, 13, 15): \")\n",
    "                        if size.isdigit():\n",
    "                            size = int(size)\n",
    "                            if size < 6:\n",
    "                                print(\"\\nERROR: Enter a valid board size (e.g., 9, 13, 15...)\\n\")\n",
    "                            else:\n",
    "                                #Exit the loop if a valid size is entered\n",
    "                                break\n",
    "                        else:\n",
    "                            print(\"\\nERROR: Please enter a valid numeric value for board size!!!\\n\")\n",
    "                    while True:\n",
    "                        mode = input(\"Enter mode (Player vs. Player (PVP) / Player vs. Computer (PVC)): \").lower()\n",
    "                        if mode in ['pvp', 'pvc', 'player vs. player', 'player vs. computer']:\n",
    "                         # Exit the loop if a valid mode is entered\n",
    "                            break \n",
    "                        else:\n",
    "                            print(\"\\nINVALID MODE! Please enter a valid mode (PVP/PVC).\\n\")\n",
    "                            \n",
    "                    print(\"New game started.\")\n",
    "                    board = create_board(size)\n",
    "                    player_turn = \"●\"\n",
    "                    game_in_progress = True \n",
    "                else:\n",
    "                    game_in_progress = True \n",
    "                    print(\"Continuing the current game.\")\n",
    "\n",
    "                    \n",
    "            else:\n",
    "                # Start a new game with user-defined settings\n",
    "                #checking validation\n",
    "                while True:\n",
    "                    size = input(\"Enter board size (e.g. 9, 13, 15): \")\n",
    "                    if size.isdigit():\n",
    "                        size = int(size)\n",
    "                        if size < 6:\n",
    "                            print(\"\\nERROR: Enter a valid board size (e.g., 9, 13, 15...)\\n\")\n",
    "                        else:\n",
    "                            #Exit the loop if a valid size is entered\n",
    "                            break  \n",
    "                    else:\n",
    "                        print(\"\\nERROR: Please enter a valid numeric value for board size!!!\\n\")\n",
    "                #checking validation\n",
    "                while True:\n",
    "                    mode = input(\"Enter mode (Player vs. Player (PVP) / Player vs. Computer (PVC)): \").lower()\n",
    "                    if mode in ['pvp', 'pvc', 'player vs. player', 'player vs. computer']:\n",
    "                         # Exit the loop if a valid mode is entered\n",
    "                        break \n",
    "                    else:\n",
    "                        print(\"\\nINVALID MODE! Please enter a valid mode (PVP/PVC).\\n\")\n",
    "                        \n",
    "                game_in_progress = True\n",
    "                print(\"\\nGAME STARTED !! ALL THE BEST :)\\n\")\n",
    "                board = create_board(size)\n",
    "                player_turn = \"●\"\n",
    "        \n",
    "        # Option 2 - Print the Board\n",
    "        elif choice == \"2\":\n",
    "            print(\"\\nTHE CURRENT STATE OF THE BOARD IS AS SHOWN BELOW:\\n\")\n",
    "            print_board(board)\n",
    "            print(\" \")\n",
    "            \n",
    "        # Option 3 - Place a Stone\n",
    "        elif choice == \"3\":\n",
    "            print(\"\\n\")\n",
    "            \n",
    "             # Check if a game is in progress\n",
    "            if not game_in_progress:\n",
    "                print(\"No game in progress. Start a new game first.\")\n",
    "                continue\n",
    "             # Player's turn to play\n",
    "            print(f\"{player_turn} turn to play\")\n",
    "            \n",
    "            # Handle computer's move in PVC mode\n",
    "            if mode in [\"Player vs. Computer\", \"pvc\"] and player_turn == \"○\":\n",
    "                if not computer_has_played:\n",
    "                    # Computer's first move\n",
    "                    # None as the second argument \n",
    "                    computer_move = random_computer_player(board, None)                     \n",
    "                    computer_has_played = True\n",
    "                else:\n",
    "                    # Computer's subsequent move\n",
    "                    computer_move = random_computer_player(board, (x, y)) \n",
    "                cx, cy = computer_move  # Extract row and column from the tuple\n",
    "                cx = int(cx)\n",
    "                cy = ord(cy.upper()) - ord(\"A\")\n",
    "                column_char = chr(cy + ord('A'))    \n",
    "                place_on_board(board, \"○\", (cx, cy))  \n",
    "                print(f\"Computer's Move: {cx} {column_char}\\n\")\n",
    "                print_board(board)\n",
    "                player_turn = \"●\"\n",
    "                \n",
    "            # Player's move\n",
    "            while True:\n",
    "                position = input(\"\\nEnter position to place stone (e.g. '2 F'): \").split()\n",
    "                if len(position) >= 2:\n",
    "                    parts = position\n",
    "                    x, y = parts\n",
    "                    if x.isdigit():\n",
    "                        x = int(x) \n",
    "                        if not (0 <= x < len(board)):\n",
    "                            print(\"Invalid row index. Please enter a valid numeric value.\")\n",
    "                            continue\n",
    "                    else:\n",
    "                        print(\"Invalid input for row. Please enter a valid numeric value.\")\n",
    "                        continue\n",
    "                    #checking validation\n",
    "                    if y.isalpha():\n",
    "                        y = ord(y.upper()) - ord(\"A\")\n",
    "                        if not (0 <= y < len(board)):\n",
    "                            print(\"Invalid column index. Please enter a valid column character.\")\n",
    "                            continue\n",
    "                    else:\n",
    "                        print(\"Invalid input for column. Please enter a valid column character.\")\n",
    "                        continue\n",
    "            \n",
    "                    if is_occupied(board, x, y):\n",
    "                        print(\"\\nPosition already occupied. Try again.\\n\")\n",
    "                        continue\n",
    "                    else:\n",
    "                        if place_on_board(board, player_turn, (x, y)):\n",
    "                            print(\"\\n\")\n",
    "                            print_board(board)\n",
    "                            winner = check_for_winner(board)\n",
    "                            if winner:\n",
    "                                print_board(board)\n",
    "                                if winner == \"Draw\":\n",
    "                                    print(\"\\nIt's a draw!\")\n",
    "                                else:\n",
    "                                    print(f\"{winner} wins! CONGRATULATIONS :) \")\n",
    "                                print(\"\\nWhat do you want to do next?\")\n",
    "                                game_in_progress = False\n",
    "                                break\n",
    "                            else:\n",
    "                                player_turn = \"○\" if player_turn == \"●\" else \"●\"\n",
    "                                if mode in [\"Player vs. Computer\", \"pvc\"] and player_turn == \"○\":\n",
    "                                    computer_move = random_computer_player(board, (x, y))\n",
    "                                    place_on_board(board, player_turn, computer_move)\n",
    "                                    winner = check_for_winner(board)\n",
    "                                    if winner:\n",
    "                                        print_board(board)\n",
    "                                        if winner == \"Draw\":\n",
    "                                            print(\"It's a draw!\")\n",
    "                                        else:\n",
    "                                            print(f\"{winner} wins!\")\n",
    "                                        game_in_progress = False\n",
    "                                    else:\n",
    "                                        print(f\"Computer's Move: {computer_move[0]} {chr(computer_move[1] + ord('A'))}\\n\")\n",
    "                                        print_board(board)\n",
    "                                        player_turn = \"●\" \n",
    "                                break\n",
    "                        else:\n",
    "                            print(\"\\nStone could not be placed due to Invalid or occupied position. Try again.\\n\")\n",
    "                else:\n",
    "                    print(\"\\nInvalid input. Please enter both row and column values for placing the stone.\\n\")\n",
    "                    continue\n",
    "                    \n",
    "        # Option 4 - Reset the Game\n",
    "        elif choice == \"4\":\n",
    "            #reset and restart the game\n",
    "            game_in_progress = False\n",
    "           \n",
    "            while True:\n",
    "                size = input(\"Enter board size (e.g. 9, 13, 15): \")\n",
    "                if size.isdigit():\n",
    "                    size = int(size)\n",
    "                    if size < 6:\n",
    "                        print(\"\\nERROR: Enter a valid board size (e.g., 9, 13, 15...)\\n\")\n",
    "                    else:\n",
    "                         # Exit the loop if a valid size is entered\n",
    "                        break\n",
    "                else:\n",
    "                    print(\"\\nERROR: Please enter a valid numeric value for board size!!!\\n\")\n",
    "            while True:\n",
    "                mode = input(\"Enter mode (Player vs. Player (PVP) / Player vs. Computer (PVC)): \").lower()\n",
    "                if mode in ['pvp', 'pvc', 'player vs. player', 'player vs. computer']:\n",
    "                         # Exit the loop if a valid mode is entered\n",
    "                    break \n",
    "                else:\n",
    "                    print(\"\\nINVALID MODE! Please enter a valid mode (PVP/PVC).\\n\")\n",
    "                            \n",
    "            print(\"Game got reset.\")\n",
    "            board = create_board(size)\n",
    "            player_turn = \"●\"\n",
    "            game_in_progress = True\n",
    "        # Option 5 - Exit the Game\n",
    "        elif choice == \"5\":\n",
    "            print(\"\\nTHANK YOU \\nSEE YOU SOON\\nEXITING THE GAME...\\n\")\n",
    "            break\n",
    "\n",
    "        else:\n",
    "            print(\"Invalid choice. Try again.\")\n",
    "            \n"
   ]
  },
  {
   "cell_type": "code",
   "execution_count": 27,
   "id": "0269bcd6",
   "metadata": {},
   "outputs": [],
   "source": [
    "# Test code for 3.9 here [The code in this cell should be commented]"
   ]
  },
  {
   "cell_type": "code",
   "execution_count": 28,
   "id": "4941ae4e",
   "metadata": {
    "scrolled": true
   },
   "outputs": [],
   "source": [
    " #play_game()"
   ]
  },
  {
   "cell_type": "code",
   "execution_count": null,
   "id": "46241f7f",
   "metadata": {},
   "outputs": [],
   "source": []
  },
  {
   "cell_type": "markdown",
   "id": "ce3460c3",
   "metadata": {},
   "source": [
    "### Documentation of Optimizations\n",
    "##### If you have implemented any optimizations in the above program, please include a list of these optimizations along with a brief explanation for each in this section.\n",
    "\n",
    "1) The game logic has been enhanced to ensure an engaging and user-friendly experience. After each move, whether by the user or the computer, the game board is displayed to provide a visual representation of the ongoing game.\n",
    "2) To streamline the code, list comprehensions have been employed in the functions create_board(size) and check_available_moves(board) for creating the game board and determining available moves, respectively. \n",
    "3) The code for checking a winning condition when five stones of the same color are aligned has been optimized. Common loop now handles all four directions of possible alignments: horizontal, vertical, diagonal (both bottom-left to top-right and top-left to bottom-right), and anti-diagonal (both bottom-right to top-left and top-right to bottom-left).                               \n",
    "4) A function to validate positions(valid_position()) has been implemented to ascertain whether the specified position falls within the dimensions of the game board.\n",
    "5) Incorporated input validation within the play_game() function to prevent errors and interruptions caused by user inputs."
   ]
  },
  {
   "cell_type": "markdown",
   "id": "eec894f0",
   "metadata": {},
   "source": [
    "<div style=\"color:#000000; font-weight:bold; text-align:center;\">\n",
    "    <h3>--- End of Assignment 1 ---</h3>\n",
    "</div>"
   ]
  }
 ],
 "metadata": {
  "kernelspec": {
   "display_name": "Python 3 (ipykernel)",
   "language": "python",
   "name": "python3"
  },
  "language_info": {
   "codemirror_mode": {
    "name": "ipython",
    "version": 3
   },
   "file_extension": ".py",
   "mimetype": "text/x-python",
   "name": "python",
   "nbconvert_exporter": "python",
   "pygments_lexer": "ipython3",
   "version": "3.10.9"
  }
 },
 "nbformat": 4,
 "nbformat_minor": 5
}
